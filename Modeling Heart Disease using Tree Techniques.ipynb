{
 "cells": [
  {
   "cell_type": "markdown",
   "metadata": {},
   "source": [
    "# Project 7\n",
    "\n",
    "In addition to answering the bolded questions on Coursera, also attach your notebook, both as\n",
    "`.ipynb` and `.html`.\n",
    "\n",
    "A hospital in Philadelphia is trying to better streamline its operations and plan for the future by reducing the number hospitalizations that could have been prevented. They have approached you, a data scientist, to help predict if patients will develop heart diseases so that healthcare providers have a chance to intervene much earlier. For this task, you have been provided with the Heart dataset, containing a binary outcome 'HD' that indicates the presence of heart disease in 303 patients. There are 13 predictors including 'Age', 'Sex', 'Chol' (a cholesterol measurement), and other heart and lung function measurements.\n",
    "\n",
    "\n",
    "In this assignment, we will be using PennGrader, a Python package built by a former TA for autograding Python notebooks. PennGrader was developed to provide students with instant feedback on their answer. You can submit your answer and know whether it's right or wrong instantly. We then record your most recent answer in our backend database. You will have 100 attempts per test case, which should be more than sufficient.  \n",
    "\n",
    "<b>NOTE：Please remember to remove the </b>\n",
    "\n",
    "```python\n",
    "raise notImplementedError\n",
    "```\n",
    "<b>after your implementation, otherwise the cell will not compile.</b>"
   ]
  },
  {
   "cell_type": "markdown",
   "metadata": {},
   "source": [
    "## Getting Set Up\n",
    "Meet our old friend - PennGrader! Fill in the cell below with your PennID and then run the following cell to initialize the grader.\n",
    "\n",
    "<font color='red'>Warning:</font> Please make sure you only have one copy of the student notebook in your directory in Codio upon submission. The autograder looks for the variable `STUDENT_ID` across all notebooks, so if there is a duplicate notebook, it will fail."
   ]
  },
  {
   "cell_type": "code",
   "execution_count": 1,
   "metadata": {},
   "outputs": [],
   "source": [
    "#PLEASE ENSURE YOUR STUDENT_ID IS ENTERED AS AN INT (NOT A STRING). IF NOT, THE AUTOGRADER WON'T KNOW WHO \n",
    "#TO ASSIGN POINTS TO YOU IN OUR BACKEND\n",
    "\n",
    "STUDENT_ID = 41075576                   # YOUR 8-DIGIT PENNID GOES HERE\n",
    "STUDENT_NAME = \"Chris Stewart\"     # YOUR FULL NAME GOES HERE"
   ]
  },
  {
   "cell_type": "code",
   "execution_count": 2,
   "metadata": {},
   "outputs": [],
   "source": [
    "import penngrader.grader\n",
    "\n",
    "grader = penngrader.grader.PennGrader(homework_id = 'ESE542_Online_Su_2021_HW7', student_id = STUDENT_ID)"
   ]
  },
  {
   "cell_type": "code",
   "execution_count": 85,
   "metadata": {},
   "outputs": [],
   "source": [
    "# Let's import the relevant Python packages here\n",
    "# Feel free to import any other packages for this project\n",
    "\n",
    "import pandas as pd\n",
    "import numpy as np\n",
    "\n",
    "from sklearn.model_selection import train_test_split\n",
    "\n",
    "#Trees\n",
    "from sklearn import tree\n",
    "from sklearn.ensemble import BaggingRegressor\n",
    "from sklearn.ensemble import RandomForestClassifier\n",
    "from sklearn.ensemble import RandomForestRegressor\n",
    "from sklearn.ensemble import GradientBoostingRegressor\n",
    "from sklearn.ensemble import BaggingClassifier\n",
    "\n",
    "from sklearn.model_selection import cross_val_score\n",
    "from sklearn.model_selection import KFold\n",
    "from sklearn.model_selection import GridSearchCV\n",
    "\n",
    "from sklearn.metrics import precision_score, recall_score, accuracy_score\n",
    "\n",
    "import seaborn as sns\n",
    "import matplotlib.pyplot as plt\n",
    "from IPython.display import Image\n",
    "import pydotplus"
   ]
  },
  {
   "cell_type": "markdown",
   "metadata": {},
   "source": [
    "Now we are ready for this project. Before building our models, let's take a look at how the data looks like.\n",
    "1. Load the Heart data and drop any rows with `NaN/null` values."
   ]
  },
  {
   "cell_type": "code",
   "execution_count": 4,
   "metadata": {},
   "outputs": [],
   "source": [
    "heart = pd.read_csv('Heart.csv')\n",
    "\n",
    "# Drop all rows with NaN/null inplace\n",
    "heart.dropna(inplace = True)"
   ]
  },
  {
   "cell_type": "code",
   "execution_count": 5,
   "metadata": {},
   "outputs": [
    {
     "name": "stdout",
     "output_type": "stream",
     "text": [
      "Correct! You earned 1/1 points. You are a star!\n",
      "\n",
      "Your submission has been successfully recorded in the gradebook.\n"
     ]
    }
   ],
   "source": [
    "grader.grade(test_case_id = 'test_read_data', answer = heart.shape)"
   ]
  },
  {
   "cell_type": "markdown",
   "metadata": {},
   "source": [
    "2. Binarize the 'HD' values such that `No=0` and `Yes=1`. One hot encode categorical features, and set prefixes to original column names. Produce some numerical and graphical summaries of it. Do there appear to be any patterns? \n",
    "\n",
    "Hint: Don't forget to drop original columns after one hot encode.\n",
    "\n",
    "The order of your columns should be as follows:  \n",
    "\n",
    "* Age\t\n",
    "* Sex\t\n",
    "* RestBP\t\n",
    "* Chol\t\n",
    "* Fbs\n",
    "* RestECG\n",
    "* MaxHR\n",
    "* ExAng\n",
    "* Oldpeak\n",
    "* Slope\n",
    "* Ca\n",
    "* HD\n",
    "* ChestPain_asymptomatic\n",
    "* ChestPain_nonanginal\n",
    "* ChestPain_nontypical\n",
    "* ChestPain_typical\n",
    "* Thal_fixed\n",
    "* Thal_normal\n",
    "* Thal_reversable"
   ]
  },
  {
   "cell_type": "code",
   "execution_count": 6,
   "metadata": {},
   "outputs": [
    {
     "data": {
      "text/html": [
       "<div>\n",
       "<style scoped>\n",
       "    .dataframe tbody tr th:only-of-type {\n",
       "        vertical-align: middle;\n",
       "    }\n",
       "\n",
       "    .dataframe tbody tr th {\n",
       "        vertical-align: top;\n",
       "    }\n",
       "\n",
       "    .dataframe thead th {\n",
       "        text-align: right;\n",
       "    }\n",
       "</style>\n",
       "<table border=\"1\" class=\"dataframe\">\n",
       "  <thead>\n",
       "    <tr style=\"text-align: right;\">\n",
       "      <th></th>\n",
       "      <th>Age</th>\n",
       "      <th>Sex</th>\n",
       "      <th>ChestPain</th>\n",
       "      <th>RestBP</th>\n",
       "      <th>Chol</th>\n",
       "      <th>Fbs</th>\n",
       "      <th>RestECG</th>\n",
       "      <th>MaxHR</th>\n",
       "      <th>ExAng</th>\n",
       "      <th>Oldpeak</th>\n",
       "      <th>Slope</th>\n",
       "      <th>Ca</th>\n",
       "      <th>Thal</th>\n",
       "      <th>HD</th>\n",
       "    </tr>\n",
       "  </thead>\n",
       "  <tbody>\n",
       "    <tr>\n",
       "      <th>0</th>\n",
       "      <td>63</td>\n",
       "      <td>1</td>\n",
       "      <td>typical</td>\n",
       "      <td>145</td>\n",
       "      <td>233</td>\n",
       "      <td>1</td>\n",
       "      <td>2</td>\n",
       "      <td>150</td>\n",
       "      <td>0</td>\n",
       "      <td>2.3</td>\n",
       "      <td>3</td>\n",
       "      <td>0.0</td>\n",
       "      <td>fixed</td>\n",
       "      <td>0</td>\n",
       "    </tr>\n",
       "    <tr>\n",
       "      <th>1</th>\n",
       "      <td>67</td>\n",
       "      <td>1</td>\n",
       "      <td>asymptomatic</td>\n",
       "      <td>160</td>\n",
       "      <td>286</td>\n",
       "      <td>0</td>\n",
       "      <td>2</td>\n",
       "      <td>108</td>\n",
       "      <td>1</td>\n",
       "      <td>1.5</td>\n",
       "      <td>2</td>\n",
       "      <td>3.0</td>\n",
       "      <td>normal</td>\n",
       "      <td>1</td>\n",
       "    </tr>\n",
       "    <tr>\n",
       "      <th>2</th>\n",
       "      <td>67</td>\n",
       "      <td>1</td>\n",
       "      <td>asymptomatic</td>\n",
       "      <td>120</td>\n",
       "      <td>229</td>\n",
       "      <td>0</td>\n",
       "      <td>2</td>\n",
       "      <td>129</td>\n",
       "      <td>1</td>\n",
       "      <td>2.6</td>\n",
       "      <td>2</td>\n",
       "      <td>2.0</td>\n",
       "      <td>reversable</td>\n",
       "      <td>1</td>\n",
       "    </tr>\n",
       "    <tr>\n",
       "      <th>3</th>\n",
       "      <td>37</td>\n",
       "      <td>1</td>\n",
       "      <td>nonanginal</td>\n",
       "      <td>130</td>\n",
       "      <td>250</td>\n",
       "      <td>0</td>\n",
       "      <td>0</td>\n",
       "      <td>187</td>\n",
       "      <td>0</td>\n",
       "      <td>3.5</td>\n",
       "      <td>3</td>\n",
       "      <td>0.0</td>\n",
       "      <td>normal</td>\n",
       "      <td>0</td>\n",
       "    </tr>\n",
       "    <tr>\n",
       "      <th>4</th>\n",
       "      <td>41</td>\n",
       "      <td>0</td>\n",
       "      <td>nontypical</td>\n",
       "      <td>130</td>\n",
       "      <td>204</td>\n",
       "      <td>0</td>\n",
       "      <td>2</td>\n",
       "      <td>172</td>\n",
       "      <td>0</td>\n",
       "      <td>1.4</td>\n",
       "      <td>1</td>\n",
       "      <td>0.0</td>\n",
       "      <td>normal</td>\n",
       "      <td>0</td>\n",
       "    </tr>\n",
       "    <tr>\n",
       "      <th>...</th>\n",
       "      <td>...</td>\n",
       "      <td>...</td>\n",
       "      <td>...</td>\n",
       "      <td>...</td>\n",
       "      <td>...</td>\n",
       "      <td>...</td>\n",
       "      <td>...</td>\n",
       "      <td>...</td>\n",
       "      <td>...</td>\n",
       "      <td>...</td>\n",
       "      <td>...</td>\n",
       "      <td>...</td>\n",
       "      <td>...</td>\n",
       "      <td>...</td>\n",
       "    </tr>\n",
       "    <tr>\n",
       "      <th>297</th>\n",
       "      <td>57</td>\n",
       "      <td>0</td>\n",
       "      <td>asymptomatic</td>\n",
       "      <td>140</td>\n",
       "      <td>241</td>\n",
       "      <td>0</td>\n",
       "      <td>0</td>\n",
       "      <td>123</td>\n",
       "      <td>1</td>\n",
       "      <td>0.2</td>\n",
       "      <td>2</td>\n",
       "      <td>0.0</td>\n",
       "      <td>reversable</td>\n",
       "      <td>1</td>\n",
       "    </tr>\n",
       "    <tr>\n",
       "      <th>298</th>\n",
       "      <td>45</td>\n",
       "      <td>1</td>\n",
       "      <td>typical</td>\n",
       "      <td>110</td>\n",
       "      <td>264</td>\n",
       "      <td>0</td>\n",
       "      <td>0</td>\n",
       "      <td>132</td>\n",
       "      <td>0</td>\n",
       "      <td>1.2</td>\n",
       "      <td>2</td>\n",
       "      <td>0.0</td>\n",
       "      <td>reversable</td>\n",
       "      <td>1</td>\n",
       "    </tr>\n",
       "    <tr>\n",
       "      <th>299</th>\n",
       "      <td>68</td>\n",
       "      <td>1</td>\n",
       "      <td>asymptomatic</td>\n",
       "      <td>144</td>\n",
       "      <td>193</td>\n",
       "      <td>1</td>\n",
       "      <td>0</td>\n",
       "      <td>141</td>\n",
       "      <td>0</td>\n",
       "      <td>3.4</td>\n",
       "      <td>2</td>\n",
       "      <td>2.0</td>\n",
       "      <td>reversable</td>\n",
       "      <td>1</td>\n",
       "    </tr>\n",
       "    <tr>\n",
       "      <th>300</th>\n",
       "      <td>57</td>\n",
       "      <td>1</td>\n",
       "      <td>asymptomatic</td>\n",
       "      <td>130</td>\n",
       "      <td>131</td>\n",
       "      <td>0</td>\n",
       "      <td>0</td>\n",
       "      <td>115</td>\n",
       "      <td>1</td>\n",
       "      <td>1.2</td>\n",
       "      <td>2</td>\n",
       "      <td>1.0</td>\n",
       "      <td>reversable</td>\n",
       "      <td>1</td>\n",
       "    </tr>\n",
       "    <tr>\n",
       "      <th>301</th>\n",
       "      <td>57</td>\n",
       "      <td>0</td>\n",
       "      <td>nontypical</td>\n",
       "      <td>130</td>\n",
       "      <td>236</td>\n",
       "      <td>0</td>\n",
       "      <td>2</td>\n",
       "      <td>174</td>\n",
       "      <td>0</td>\n",
       "      <td>0.0</td>\n",
       "      <td>2</td>\n",
       "      <td>1.0</td>\n",
       "      <td>normal</td>\n",
       "      <td>1</td>\n",
       "    </tr>\n",
       "  </tbody>\n",
       "</table>\n",
       "<p>297 rows × 14 columns</p>\n",
       "</div>"
      ],
      "text/plain": [
       "     Age  Sex     ChestPain  RestBP  Chol  Fbs  RestECG  MaxHR  ExAng  \\\n",
       "0     63    1       typical     145   233    1        2    150      0   \n",
       "1     67    1  asymptomatic     160   286    0        2    108      1   \n",
       "2     67    1  asymptomatic     120   229    0        2    129      1   \n",
       "3     37    1    nonanginal     130   250    0        0    187      0   \n",
       "4     41    0    nontypical     130   204    0        2    172      0   \n",
       "..   ...  ...           ...     ...   ...  ...      ...    ...    ...   \n",
       "297   57    0  asymptomatic     140   241    0        0    123      1   \n",
       "298   45    1       typical     110   264    0        0    132      0   \n",
       "299   68    1  asymptomatic     144   193    1        0    141      0   \n",
       "300   57    1  asymptomatic     130   131    0        0    115      1   \n",
       "301   57    0    nontypical     130   236    0        2    174      0   \n",
       "\n",
       "     Oldpeak  Slope   Ca        Thal  HD  \n",
       "0        2.3      3  0.0       fixed   0  \n",
       "1        1.5      2  3.0      normal   1  \n",
       "2        2.6      2  2.0  reversable   1  \n",
       "3        3.5      3  0.0      normal   0  \n",
       "4        1.4      1  0.0      normal   0  \n",
       "..       ...    ...  ...         ...  ..  \n",
       "297      0.2      2  0.0  reversable   1  \n",
       "298      1.2      2  0.0  reversable   1  \n",
       "299      3.4      2  2.0  reversable   1  \n",
       "300      1.2      2  1.0  reversable   1  \n",
       "301      0.0      2  1.0      normal   1  \n",
       "\n",
       "[297 rows x 14 columns]"
      ]
     },
     "execution_count": 6,
     "metadata": {},
     "output_type": "execute_result"
    }
   ],
   "source": [
    "# Enter your code here, all changes should be made inplace\n",
    "\n",
    "heart['HD'] = [1 if hd == 'Yes' else 0 for hd in heart['HD']]\n",
    "heart"
   ]
  },
  {
   "cell_type": "code",
   "execution_count": 7,
   "metadata": {},
   "outputs": [
    {
     "data": {
      "text/html": [
       "<div>\n",
       "<style scoped>\n",
       "    .dataframe tbody tr th:only-of-type {\n",
       "        vertical-align: middle;\n",
       "    }\n",
       "\n",
       "    .dataframe tbody tr th {\n",
       "        vertical-align: top;\n",
       "    }\n",
       "\n",
       "    .dataframe thead th {\n",
       "        text-align: right;\n",
       "    }\n",
       "</style>\n",
       "<table border=\"1\" class=\"dataframe\">\n",
       "  <thead>\n",
       "    <tr style=\"text-align: right;\">\n",
       "      <th></th>\n",
       "      <th>Age</th>\n",
       "      <th>Sex</th>\n",
       "      <th>RestBP</th>\n",
       "      <th>Chol</th>\n",
       "      <th>Fbs</th>\n",
       "      <th>RestECG</th>\n",
       "      <th>MaxHR</th>\n",
       "      <th>ExAng</th>\n",
       "      <th>Oldpeak</th>\n",
       "      <th>Slope</th>\n",
       "      <th>Ca</th>\n",
       "      <th>HD</th>\n",
       "      <th>ChestPain_asymptomatic</th>\n",
       "      <th>ChestPain_nonanginal</th>\n",
       "      <th>ChestPain_nontypical</th>\n",
       "      <th>ChestPain_typical</th>\n",
       "      <th>Thal_fixed</th>\n",
       "      <th>Thal_normal</th>\n",
       "      <th>Thal_reversable</th>\n",
       "    </tr>\n",
       "  </thead>\n",
       "  <tbody>\n",
       "    <tr>\n",
       "      <th>0</th>\n",
       "      <td>63</td>\n",
       "      <td>1</td>\n",
       "      <td>145</td>\n",
       "      <td>233</td>\n",
       "      <td>1</td>\n",
       "      <td>2</td>\n",
       "      <td>150</td>\n",
       "      <td>0</td>\n",
       "      <td>2.3</td>\n",
       "      <td>3</td>\n",
       "      <td>0.0</td>\n",
       "      <td>0</td>\n",
       "      <td>0</td>\n",
       "      <td>0</td>\n",
       "      <td>0</td>\n",
       "      <td>1</td>\n",
       "      <td>1</td>\n",
       "      <td>0</td>\n",
       "      <td>0</td>\n",
       "    </tr>\n",
       "    <tr>\n",
       "      <th>1</th>\n",
       "      <td>67</td>\n",
       "      <td>1</td>\n",
       "      <td>160</td>\n",
       "      <td>286</td>\n",
       "      <td>0</td>\n",
       "      <td>2</td>\n",
       "      <td>108</td>\n",
       "      <td>1</td>\n",
       "      <td>1.5</td>\n",
       "      <td>2</td>\n",
       "      <td>3.0</td>\n",
       "      <td>1</td>\n",
       "      <td>1</td>\n",
       "      <td>0</td>\n",
       "      <td>0</td>\n",
       "      <td>0</td>\n",
       "      <td>0</td>\n",
       "      <td>1</td>\n",
       "      <td>0</td>\n",
       "    </tr>\n",
       "    <tr>\n",
       "      <th>2</th>\n",
       "      <td>67</td>\n",
       "      <td>1</td>\n",
       "      <td>120</td>\n",
       "      <td>229</td>\n",
       "      <td>0</td>\n",
       "      <td>2</td>\n",
       "      <td>129</td>\n",
       "      <td>1</td>\n",
       "      <td>2.6</td>\n",
       "      <td>2</td>\n",
       "      <td>2.0</td>\n",
       "      <td>1</td>\n",
       "      <td>1</td>\n",
       "      <td>0</td>\n",
       "      <td>0</td>\n",
       "      <td>0</td>\n",
       "      <td>0</td>\n",
       "      <td>0</td>\n",
       "      <td>1</td>\n",
       "    </tr>\n",
       "    <tr>\n",
       "      <th>3</th>\n",
       "      <td>37</td>\n",
       "      <td>1</td>\n",
       "      <td>130</td>\n",
       "      <td>250</td>\n",
       "      <td>0</td>\n",
       "      <td>0</td>\n",
       "      <td>187</td>\n",
       "      <td>0</td>\n",
       "      <td>3.5</td>\n",
       "      <td>3</td>\n",
       "      <td>0.0</td>\n",
       "      <td>0</td>\n",
       "      <td>0</td>\n",
       "      <td>1</td>\n",
       "      <td>0</td>\n",
       "      <td>0</td>\n",
       "      <td>0</td>\n",
       "      <td>1</td>\n",
       "      <td>0</td>\n",
       "    </tr>\n",
       "    <tr>\n",
       "      <th>4</th>\n",
       "      <td>41</td>\n",
       "      <td>0</td>\n",
       "      <td>130</td>\n",
       "      <td>204</td>\n",
       "      <td>0</td>\n",
       "      <td>2</td>\n",
       "      <td>172</td>\n",
       "      <td>0</td>\n",
       "      <td>1.4</td>\n",
       "      <td>1</td>\n",
       "      <td>0.0</td>\n",
       "      <td>0</td>\n",
       "      <td>0</td>\n",
       "      <td>0</td>\n",
       "      <td>1</td>\n",
       "      <td>0</td>\n",
       "      <td>0</td>\n",
       "      <td>1</td>\n",
       "      <td>0</td>\n",
       "    </tr>\n",
       "    <tr>\n",
       "      <th>...</th>\n",
       "      <td>...</td>\n",
       "      <td>...</td>\n",
       "      <td>...</td>\n",
       "      <td>...</td>\n",
       "      <td>...</td>\n",
       "      <td>...</td>\n",
       "      <td>...</td>\n",
       "      <td>...</td>\n",
       "      <td>...</td>\n",
       "      <td>...</td>\n",
       "      <td>...</td>\n",
       "      <td>...</td>\n",
       "      <td>...</td>\n",
       "      <td>...</td>\n",
       "      <td>...</td>\n",
       "      <td>...</td>\n",
       "      <td>...</td>\n",
       "      <td>...</td>\n",
       "      <td>...</td>\n",
       "    </tr>\n",
       "    <tr>\n",
       "      <th>297</th>\n",
       "      <td>57</td>\n",
       "      <td>0</td>\n",
       "      <td>140</td>\n",
       "      <td>241</td>\n",
       "      <td>0</td>\n",
       "      <td>0</td>\n",
       "      <td>123</td>\n",
       "      <td>1</td>\n",
       "      <td>0.2</td>\n",
       "      <td>2</td>\n",
       "      <td>0.0</td>\n",
       "      <td>1</td>\n",
       "      <td>1</td>\n",
       "      <td>0</td>\n",
       "      <td>0</td>\n",
       "      <td>0</td>\n",
       "      <td>0</td>\n",
       "      <td>0</td>\n",
       "      <td>1</td>\n",
       "    </tr>\n",
       "    <tr>\n",
       "      <th>298</th>\n",
       "      <td>45</td>\n",
       "      <td>1</td>\n",
       "      <td>110</td>\n",
       "      <td>264</td>\n",
       "      <td>0</td>\n",
       "      <td>0</td>\n",
       "      <td>132</td>\n",
       "      <td>0</td>\n",
       "      <td>1.2</td>\n",
       "      <td>2</td>\n",
       "      <td>0.0</td>\n",
       "      <td>1</td>\n",
       "      <td>0</td>\n",
       "      <td>0</td>\n",
       "      <td>0</td>\n",
       "      <td>1</td>\n",
       "      <td>0</td>\n",
       "      <td>0</td>\n",
       "      <td>1</td>\n",
       "    </tr>\n",
       "    <tr>\n",
       "      <th>299</th>\n",
       "      <td>68</td>\n",
       "      <td>1</td>\n",
       "      <td>144</td>\n",
       "      <td>193</td>\n",
       "      <td>1</td>\n",
       "      <td>0</td>\n",
       "      <td>141</td>\n",
       "      <td>0</td>\n",
       "      <td>3.4</td>\n",
       "      <td>2</td>\n",
       "      <td>2.0</td>\n",
       "      <td>1</td>\n",
       "      <td>1</td>\n",
       "      <td>0</td>\n",
       "      <td>0</td>\n",
       "      <td>0</td>\n",
       "      <td>0</td>\n",
       "      <td>0</td>\n",
       "      <td>1</td>\n",
       "    </tr>\n",
       "    <tr>\n",
       "      <th>300</th>\n",
       "      <td>57</td>\n",
       "      <td>1</td>\n",
       "      <td>130</td>\n",
       "      <td>131</td>\n",
       "      <td>0</td>\n",
       "      <td>0</td>\n",
       "      <td>115</td>\n",
       "      <td>1</td>\n",
       "      <td>1.2</td>\n",
       "      <td>2</td>\n",
       "      <td>1.0</td>\n",
       "      <td>1</td>\n",
       "      <td>1</td>\n",
       "      <td>0</td>\n",
       "      <td>0</td>\n",
       "      <td>0</td>\n",
       "      <td>0</td>\n",
       "      <td>0</td>\n",
       "      <td>1</td>\n",
       "    </tr>\n",
       "    <tr>\n",
       "      <th>301</th>\n",
       "      <td>57</td>\n",
       "      <td>0</td>\n",
       "      <td>130</td>\n",
       "      <td>236</td>\n",
       "      <td>0</td>\n",
       "      <td>2</td>\n",
       "      <td>174</td>\n",
       "      <td>0</td>\n",
       "      <td>0.0</td>\n",
       "      <td>2</td>\n",
       "      <td>1.0</td>\n",
       "      <td>1</td>\n",
       "      <td>0</td>\n",
       "      <td>0</td>\n",
       "      <td>1</td>\n",
       "      <td>0</td>\n",
       "      <td>0</td>\n",
       "      <td>1</td>\n",
       "      <td>0</td>\n",
       "    </tr>\n",
       "  </tbody>\n",
       "</table>\n",
       "<p>297 rows × 19 columns</p>\n",
       "</div>"
      ],
      "text/plain": [
       "     Age  Sex  RestBP  Chol  Fbs  RestECG  MaxHR  ExAng  Oldpeak  Slope   Ca  \\\n",
       "0     63    1     145   233    1        2    150      0      2.3      3  0.0   \n",
       "1     67    1     160   286    0        2    108      1      1.5      2  3.0   \n",
       "2     67    1     120   229    0        2    129      1      2.6      2  2.0   \n",
       "3     37    1     130   250    0        0    187      0      3.5      3  0.0   \n",
       "4     41    0     130   204    0        2    172      0      1.4      1  0.0   \n",
       "..   ...  ...     ...   ...  ...      ...    ...    ...      ...    ...  ...   \n",
       "297   57    0     140   241    0        0    123      1      0.2      2  0.0   \n",
       "298   45    1     110   264    0        0    132      0      1.2      2  0.0   \n",
       "299   68    1     144   193    1        0    141      0      3.4      2  2.0   \n",
       "300   57    1     130   131    0        0    115      1      1.2      2  1.0   \n",
       "301   57    0     130   236    0        2    174      0      0.0      2  1.0   \n",
       "\n",
       "     HD  ChestPain_asymptomatic  ChestPain_nonanginal  ChestPain_nontypical  \\\n",
       "0     0                       0                     0                     0   \n",
       "1     1                       1                     0                     0   \n",
       "2     1                       1                     0                     0   \n",
       "3     0                       0                     1                     0   \n",
       "4     0                       0                     0                     1   \n",
       "..   ..                     ...                   ...                   ...   \n",
       "297   1                       1                     0                     0   \n",
       "298   1                       0                     0                     0   \n",
       "299   1                       1                     0                     0   \n",
       "300   1                       1                     0                     0   \n",
       "301   1                       0                     0                     1   \n",
       "\n",
       "     ChestPain_typical  Thal_fixed  Thal_normal  Thal_reversable  \n",
       "0                    1           1            0                0  \n",
       "1                    0           0            1                0  \n",
       "2                    0           0            0                1  \n",
       "3                    0           0            1                0  \n",
       "4                    0           0            1                0  \n",
       "..                 ...         ...          ...              ...  \n",
       "297                  0           0            0                1  \n",
       "298                  1           0            0                1  \n",
       "299                  0           0            0                1  \n",
       "300                  0           0            0                1  \n",
       "301                  0           0            1                0  \n",
       "\n",
       "[297 rows x 19 columns]"
      ]
     },
     "execution_count": 7,
     "metadata": {},
     "output_type": "execute_result"
    }
   ],
   "source": [
    "heart = pd.get_dummies(heart, columns=['ChestPain', 'Thal'])\n",
    "heart"
   ]
  },
  {
   "cell_type": "code",
   "execution_count": 8,
   "metadata": {},
   "outputs": [
    {
     "name": "stdout",
     "output_type": "stream",
     "text": [
      "Correct! You earned 2/2 points. You are a star!\n",
      "\n",
      "Your submission has been successfully recorded in the gradebook.\n"
     ]
    }
   ],
   "source": [
    "grader.grade(test_case_id = 'test_hot_encode', answer = heart)"
   ]
  },
  {
   "cell_type": "markdown",
   "metadata": {},
   "source": [
    "3. What is the minimum and maximum ages of the patients in the dataset? Assign this value to the variable `min_age` and `max_age`."
   ]
  },
  {
   "cell_type": "code",
   "execution_count": 118,
   "metadata": {},
   "outputs": [
    {
     "name": "stdout",
     "output_type": "stream",
     "text": [
      "29 77\n"
     ]
    }
   ],
   "source": [
    "min_age = heart['Age'].min()\n",
    "max_age = heart['Age'].max()\n",
    "\n",
    "print(min_age, max_age)"
   ]
  },
  {
   "cell_type": "code",
   "execution_count": 10,
   "metadata": {},
   "outputs": [
    {
     "name": "stdout",
     "output_type": "stream",
     "text": [
      "Correct! You earned 1.0/1 points. You are a star!\n",
      "\n",
      "Your submission has been successfully recorded in the gradebook.\n"
     ]
    }
   ],
   "source": [
    "grader.grade(test_case_id = 'test_age', answer = (min_age, max_age))"
   ]
  },
  {
   "cell_type": "markdown",
   "metadata": {},
   "source": [
    "4. Calculate the pairwise correlations between all the variables. Which predictor has the highest positive correlation with the response variable? Assign this to `highest_corr`. \n",
    "\n",
    "Hint: Your answer should be in the format `ColumnName_type` where the type is the result of one-hot encoding. "
   ]
  },
  {
   "cell_type": "code",
   "execution_count": 11,
   "metadata": {},
   "outputs": [
    {
     "data": {
      "text/html": [
       "<div>\n",
       "<style scoped>\n",
       "    .dataframe tbody tr th:only-of-type {\n",
       "        vertical-align: middle;\n",
       "    }\n",
       "\n",
       "    .dataframe tbody tr th {\n",
       "        vertical-align: top;\n",
       "    }\n",
       "\n",
       "    .dataframe thead th {\n",
       "        text-align: right;\n",
       "    }\n",
       "</style>\n",
       "<table border=\"1\" class=\"dataframe\">\n",
       "  <thead>\n",
       "    <tr style=\"text-align: right;\">\n",
       "      <th></th>\n",
       "      <th>Age</th>\n",
       "      <th>Sex</th>\n",
       "      <th>RestBP</th>\n",
       "      <th>Chol</th>\n",
       "      <th>Fbs</th>\n",
       "      <th>RestECG</th>\n",
       "      <th>MaxHR</th>\n",
       "      <th>ExAng</th>\n",
       "      <th>Oldpeak</th>\n",
       "      <th>Slope</th>\n",
       "      <th>Ca</th>\n",
       "      <th>HD</th>\n",
       "      <th>ChestPain_asymptomatic</th>\n",
       "      <th>ChestPain_nonanginal</th>\n",
       "      <th>ChestPain_nontypical</th>\n",
       "      <th>ChestPain_typical</th>\n",
       "      <th>Thal_fixed</th>\n",
       "      <th>Thal_normal</th>\n",
       "      <th>Thal_reversable</th>\n",
       "    </tr>\n",
       "  </thead>\n",
       "  <tbody>\n",
       "    <tr>\n",
       "      <th>Age</th>\n",
       "      <td>1.000000</td>\n",
       "      <td>-0.092399</td>\n",
       "      <td>0.290476</td>\n",
       "      <td>0.202644</td>\n",
       "      <td>0.132062</td>\n",
       "      <td>0.149917</td>\n",
       "      <td>-0.394563</td>\n",
       "      <td>0.096489</td>\n",
       "      <td>0.197123</td>\n",
       "      <td>0.159405</td>\n",
       "      <td>0.362210</td>\n",
       "      <td>0.227075</td>\n",
       "      <td>0.137297</td>\n",
       "      <td>-0.043181</td>\n",
       "      <td>-0.163227</td>\n",
       "      <td>0.042571</td>\n",
       "      <td>0.059732</td>\n",
       "      <td>-0.130333</td>\n",
       "      <td>0.103792</td>\n",
       "    </tr>\n",
       "    <tr>\n",
       "      <th>Sex</th>\n",
       "      <td>-0.092399</td>\n",
       "      <td>1.000000</td>\n",
       "      <td>-0.066340</td>\n",
       "      <td>-0.198089</td>\n",
       "      <td>0.038850</td>\n",
       "      <td>0.033897</td>\n",
       "      <td>-0.060496</td>\n",
       "      <td>0.143581</td>\n",
       "      <td>0.106567</td>\n",
       "      <td>0.033345</td>\n",
       "      <td>0.091925</td>\n",
       "      <td>0.278467</td>\n",
       "      <td>0.085014</td>\n",
       "      <td>-0.115054</td>\n",
       "      <td>-0.041925</td>\n",
       "      <td>0.092497</td>\n",
       "      <td>0.145368</td>\n",
       "      <td>-0.390730</td>\n",
       "      <td>0.327671</td>\n",
       "    </tr>\n",
       "    <tr>\n",
       "      <th>RestBP</th>\n",
       "      <td>0.290476</td>\n",
       "      <td>-0.066340</td>\n",
       "      <td>1.000000</td>\n",
       "      <td>0.131536</td>\n",
       "      <td>0.180860</td>\n",
       "      <td>0.149242</td>\n",
       "      <td>-0.049108</td>\n",
       "      <td>0.066691</td>\n",
       "      <td>0.191243</td>\n",
       "      <td>0.121172</td>\n",
       "      <td>0.097954</td>\n",
       "      <td>0.153490</td>\n",
       "      <td>0.029082</td>\n",
       "      <td>-0.054825</td>\n",
       "      <td>-0.080820</td>\n",
       "      <td>0.149921</td>\n",
       "      <td>0.075211</td>\n",
       "      <td>-0.143474</td>\n",
       "      <td>0.109624</td>\n",
       "    </tr>\n",
       "    <tr>\n",
       "      <th>Chol</th>\n",
       "      <td>0.202644</td>\n",
       "      <td>-0.198089</td>\n",
       "      <td>0.131536</td>\n",
       "      <td>1.000000</td>\n",
       "      <td>0.012708</td>\n",
       "      <td>0.165046</td>\n",
       "      <td>-0.000075</td>\n",
       "      <td>0.059339</td>\n",
       "      <td>0.038596</td>\n",
       "      <td>-0.009215</td>\n",
       "      <td>0.115945</td>\n",
       "      <td>0.080285</td>\n",
       "      <td>0.064831</td>\n",
       "      <td>-0.023570</td>\n",
       "      <td>-0.017678</td>\n",
       "      <td>-0.057040</td>\n",
       "      <td>-0.099575</td>\n",
       "      <td>0.001379</td>\n",
       "      <td>0.047368</td>\n",
       "    </tr>\n",
       "    <tr>\n",
       "      <th>Fbs</th>\n",
       "      <td>0.132062</td>\n",
       "      <td>0.038850</td>\n",
       "      <td>0.180860</td>\n",
       "      <td>0.012708</td>\n",
       "      <td>1.000000</td>\n",
       "      <td>0.068831</td>\n",
       "      <td>-0.007842</td>\n",
       "      <td>-0.000893</td>\n",
       "      <td>0.008311</td>\n",
       "      <td>0.047819</td>\n",
       "      <td>0.152086</td>\n",
       "      <td>0.003167</td>\n",
       "      <td>-0.087329</td>\n",
       "      <td>0.106259</td>\n",
       "      <td>-0.053990</td>\n",
       "      <td>0.059785</td>\n",
       "      <td>0.096002</td>\n",
       "      <td>-0.072045</td>\n",
       "      <td>0.026522</td>\n",
       "    </tr>\n",
       "    <tr>\n",
       "      <th>RestECG</th>\n",
       "      <td>0.149917</td>\n",
       "      <td>0.033897</td>\n",
       "      <td>0.149242</td>\n",
       "      <td>0.165046</td>\n",
       "      <td>0.068831</td>\n",
       "      <td>1.000000</td>\n",
       "      <td>-0.072290</td>\n",
       "      <td>0.081874</td>\n",
       "      <td>0.113726</td>\n",
       "      <td>0.135141</td>\n",
       "      <td>0.129021</td>\n",
       "      <td>0.166343</td>\n",
       "      <td>0.118613</td>\n",
       "      <td>-0.088542</td>\n",
       "      <td>-0.098958</td>\n",
       "      <td>0.064395</td>\n",
       "      <td>0.043483</td>\n",
       "      <td>-0.023504</td>\n",
       "      <td>0.002695</td>\n",
       "    </tr>\n",
       "    <tr>\n",
       "      <th>MaxHR</th>\n",
       "      <td>-0.394563</td>\n",
       "      <td>-0.060496</td>\n",
       "      <td>-0.049108</td>\n",
       "      <td>-0.000075</td>\n",
       "      <td>-0.007842</td>\n",
       "      <td>-0.072290</td>\n",
       "      <td>1.000000</td>\n",
       "      <td>-0.384368</td>\n",
       "      <td>-0.347640</td>\n",
       "      <td>-0.389307</td>\n",
       "      <td>-0.268727</td>\n",
       "      <td>-0.423817</td>\n",
       "      <td>-0.377920</td>\n",
       "      <td>0.160943</td>\n",
       "      <td>0.256120</td>\n",
       "      <td>0.080420</td>\n",
       "      <td>-0.160679</td>\n",
       "      <td>0.286684</td>\n",
       "      <td>-0.213956</td>\n",
       "    </tr>\n",
       "    <tr>\n",
       "      <th>ExAng</th>\n",
       "      <td>0.096489</td>\n",
       "      <td>0.143581</td>\n",
       "      <td>0.066691</td>\n",
       "      <td>0.059339</td>\n",
       "      <td>-0.000893</td>\n",
       "      <td>0.081874</td>\n",
       "      <td>-0.384368</td>\n",
       "      <td>1.000000</td>\n",
       "      <td>0.289310</td>\n",
       "      <td>0.250572</td>\n",
       "      <td>0.148232</td>\n",
       "      <td>0.421355</td>\n",
       "      <td>0.454514</td>\n",
       "      <td>-0.257718</td>\n",
       "      <td>-0.232185</td>\n",
       "      <td>-0.094329</td>\n",
       "      <td>0.063827</td>\n",
       "      <td>-0.325755</td>\n",
       "      <td>0.301283</td>\n",
       "    </tr>\n",
       "    <tr>\n",
       "      <th>Oldpeak</th>\n",
       "      <td>0.197123</td>\n",
       "      <td>0.106567</td>\n",
       "      <td>0.191243</td>\n",
       "      <td>0.038596</td>\n",
       "      <td>0.008311</td>\n",
       "      <td>0.113726</td>\n",
       "      <td>-0.347640</td>\n",
       "      <td>0.289310</td>\n",
       "      <td>1.000000</td>\n",
       "      <td>0.579037</td>\n",
       "      <td>0.294452</td>\n",
       "      <td>0.424052</td>\n",
       "      <td>0.271036</td>\n",
       "      <td>-0.117376</td>\n",
       "      <td>-0.283033</td>\n",
       "      <td>0.083559</td>\n",
       "      <td>0.101819</td>\n",
       "      <td>-0.347874</td>\n",
       "      <td>0.305253</td>\n",
       "    </tr>\n",
       "    <tr>\n",
       "      <th>Slope</th>\n",
       "      <td>0.159405</td>\n",
       "      <td>0.033345</td>\n",
       "      <td>0.121172</td>\n",
       "      <td>-0.009215</td>\n",
       "      <td>0.047819</td>\n",
       "      <td>0.135141</td>\n",
       "      <td>-0.389307</td>\n",
       "      <td>0.250572</td>\n",
       "      <td>0.579037</td>\n",
       "      <td>1.000000</td>\n",
       "      <td>0.109761</td>\n",
       "      <td>0.333049</td>\n",
       "      <td>0.201156</td>\n",
       "      <td>-0.085393</td>\n",
       "      <td>-0.213606</td>\n",
       "      <td>0.064052</td>\n",
       "      <td>0.186386</td>\n",
       "      <td>-0.294494</td>\n",
       "      <td>0.209335</td>\n",
       "    </tr>\n",
       "    <tr>\n",
       "      <th>Ca</th>\n",
       "      <td>0.362210</td>\n",
       "      <td>0.091925</td>\n",
       "      <td>0.097954</td>\n",
       "      <td>0.115945</td>\n",
       "      <td>0.152086</td>\n",
       "      <td>0.129021</td>\n",
       "      <td>-0.268727</td>\n",
       "      <td>0.148232</td>\n",
       "      <td>0.294452</td>\n",
       "      <td>0.109761</td>\n",
       "      <td>1.000000</td>\n",
       "      <td>0.463189</td>\n",
       "      <td>0.272522</td>\n",
       "      <td>-0.137452</td>\n",
       "      <td>-0.156403</td>\n",
       "      <td>-0.061355</td>\n",
       "      <td>0.087585</td>\n",
       "      <td>-0.259966</td>\n",
       "      <td>0.222484</td>\n",
       "    </tr>\n",
       "    <tr>\n",
       "      <th>HD</th>\n",
       "      <td>0.227075</td>\n",
       "      <td>0.278467</td>\n",
       "      <td>0.153490</td>\n",
       "      <td>0.080285</td>\n",
       "      <td>0.003167</td>\n",
       "      <td>0.166343</td>\n",
       "      <td>-0.423817</td>\n",
       "      <td>0.421355</td>\n",
       "      <td>0.424052</td>\n",
       "      <td>0.333049</td>\n",
       "      <td>0.463189</td>\n",
       "      <td>1.000000</td>\n",
       "      <td>0.507035</td>\n",
       "      <td>-0.305345</td>\n",
       "      <td>-0.247535</td>\n",
       "      <td>-0.091208</td>\n",
       "      <td>0.104651</td>\n",
       "      <td>-0.524972</td>\n",
       "      <td>0.484657</td>\n",
       "    </tr>\n",
       "    <tr>\n",
       "      <th>ChestPain_asymptomatic</th>\n",
       "      <td>0.137297</td>\n",
       "      <td>0.085014</td>\n",
       "      <td>0.029082</td>\n",
       "      <td>0.064831</td>\n",
       "      <td>-0.087329</td>\n",
       "      <td>0.118613</td>\n",
       "      <td>-0.377920</td>\n",
       "      <td>0.454514</td>\n",
       "      <td>0.271036</td>\n",
       "      <td>0.201156</td>\n",
       "      <td>0.272522</td>\n",
       "      <td>0.507035</td>\n",
       "      <td>1.000000</td>\n",
       "      <td>-0.596088</td>\n",
       "      <td>-0.425452</td>\n",
       "      <td>-0.277311</td>\n",
       "      <td>0.095876</td>\n",
       "      <td>-0.344442</td>\n",
       "      <td>0.304661</td>\n",
       "    </tr>\n",
       "    <tr>\n",
       "      <th>ChestPain_nonanginal</th>\n",
       "      <td>-0.043181</td>\n",
       "      <td>-0.115054</td>\n",
       "      <td>-0.054825</td>\n",
       "      <td>-0.023570</td>\n",
       "      <td>0.106259</td>\n",
       "      <td>-0.088542</td>\n",
       "      <td>0.160943</td>\n",
       "      <td>-0.257718</td>\n",
       "      <td>-0.117376</td>\n",
       "      <td>-0.085393</td>\n",
       "      <td>-0.137452</td>\n",
       "      <td>-0.305345</td>\n",
       "      <td>-0.596088</td>\n",
       "      <td>1.000000</td>\n",
       "      <td>-0.276824</td>\n",
       "      <td>-0.180435</td>\n",
       "      <td>-0.095292</td>\n",
       "      <td>0.198698</td>\n",
       "      <td>-0.156164</td>\n",
       "    </tr>\n",
       "    <tr>\n",
       "      <th>ChestPain_nontypical</th>\n",
       "      <td>-0.163227</td>\n",
       "      <td>-0.041925</td>\n",
       "      <td>-0.080820</td>\n",
       "      <td>-0.017678</td>\n",
       "      <td>-0.053990</td>\n",
       "      <td>-0.098958</td>\n",
       "      <td>0.256120</td>\n",
       "      <td>-0.232185</td>\n",
       "      <td>-0.283033</td>\n",
       "      <td>-0.213606</td>\n",
       "      <td>-0.156403</td>\n",
       "      <td>-0.247535</td>\n",
       "      <td>-0.425452</td>\n",
       "      <td>-0.276824</td>\n",
       "      <td>1.000000</td>\n",
       "      <td>-0.128784</td>\n",
       "      <td>-0.036866</td>\n",
       "      <td>0.217866</td>\n",
       "      <td>-0.204351</td>\n",
       "    </tr>\n",
       "    <tr>\n",
       "      <th>ChestPain_typical</th>\n",
       "      <td>0.042571</td>\n",
       "      <td>0.092497</td>\n",
       "      <td>0.149921</td>\n",
       "      <td>-0.057040</td>\n",
       "      <td>0.059785</td>\n",
       "      <td>0.064395</td>\n",
       "      <td>0.080420</td>\n",
       "      <td>-0.094329</td>\n",
       "      <td>0.083559</td>\n",
       "      <td>0.064052</td>\n",
       "      <td>-0.061355</td>\n",
       "      <td>-0.091208</td>\n",
       "      <td>-0.277311</td>\n",
       "      <td>-0.180435</td>\n",
       "      <td>-0.128784</td>\n",
       "      <td>1.000000</td>\n",
       "      <td>0.031996</td>\n",
       "      <td>0.007591</td>\n",
       "      <td>-0.023422</td>\n",
       "    </tr>\n",
       "    <tr>\n",
       "      <th>Thal_fixed</th>\n",
       "      <td>0.059732</td>\n",
       "      <td>0.145368</td>\n",
       "      <td>0.075211</td>\n",
       "      <td>-0.099575</td>\n",
       "      <td>0.096002</td>\n",
       "      <td>0.043483</td>\n",
       "      <td>-0.160679</td>\n",
       "      <td>0.063827</td>\n",
       "      <td>0.101819</td>\n",
       "      <td>0.186386</td>\n",
       "      <td>0.087585</td>\n",
       "      <td>0.104651</td>\n",
       "      <td>0.095876</td>\n",
       "      <td>-0.095292</td>\n",
       "      <td>-0.036866</td>\n",
       "      <td>0.031996</td>\n",
       "      <td>1.000000</td>\n",
       "      <td>-0.282053</td>\n",
       "      <td>-0.201905</td>\n",
       "    </tr>\n",
       "    <tr>\n",
       "      <th>Thal_normal</th>\n",
       "      <td>-0.130333</td>\n",
       "      <td>-0.390730</td>\n",
       "      <td>-0.143474</td>\n",
       "      <td>0.001379</td>\n",
       "      <td>-0.072045</td>\n",
       "      <td>-0.023504</td>\n",
       "      <td>0.286684</td>\n",
       "      <td>-0.325755</td>\n",
       "      <td>-0.347874</td>\n",
       "      <td>-0.294494</td>\n",
       "      <td>-0.259966</td>\n",
       "      <td>-0.524972</td>\n",
       "      <td>-0.344442</td>\n",
       "      <td>0.198698</td>\n",
       "      <td>0.217866</td>\n",
       "      <td>0.007591</td>\n",
       "      <td>-0.282053</td>\n",
       "      <td>1.000000</td>\n",
       "      <td>-0.882692</td>\n",
       "    </tr>\n",
       "    <tr>\n",
       "      <th>Thal_reversable</th>\n",
       "      <td>0.103792</td>\n",
       "      <td>0.327671</td>\n",
       "      <td>0.109624</td>\n",
       "      <td>0.047368</td>\n",
       "      <td>0.026522</td>\n",
       "      <td>0.002695</td>\n",
       "      <td>-0.213956</td>\n",
       "      <td>0.301283</td>\n",
       "      <td>0.305253</td>\n",
       "      <td>0.209335</td>\n",
       "      <td>0.222484</td>\n",
       "      <td>0.484657</td>\n",
       "      <td>0.304661</td>\n",
       "      <td>-0.156164</td>\n",
       "      <td>-0.204351</td>\n",
       "      <td>-0.023422</td>\n",
       "      <td>-0.201905</td>\n",
       "      <td>-0.882692</td>\n",
       "      <td>1.000000</td>\n",
       "    </tr>\n",
       "  </tbody>\n",
       "</table>\n",
       "</div>"
      ],
      "text/plain": [
       "                             Age       Sex    RestBP      Chol       Fbs  \\\n",
       "Age                     1.000000 -0.092399  0.290476  0.202644  0.132062   \n",
       "Sex                    -0.092399  1.000000 -0.066340 -0.198089  0.038850   \n",
       "RestBP                  0.290476 -0.066340  1.000000  0.131536  0.180860   \n",
       "Chol                    0.202644 -0.198089  0.131536  1.000000  0.012708   \n",
       "Fbs                     0.132062  0.038850  0.180860  0.012708  1.000000   \n",
       "RestECG                 0.149917  0.033897  0.149242  0.165046  0.068831   \n",
       "MaxHR                  -0.394563 -0.060496 -0.049108 -0.000075 -0.007842   \n",
       "ExAng                   0.096489  0.143581  0.066691  0.059339 -0.000893   \n",
       "Oldpeak                 0.197123  0.106567  0.191243  0.038596  0.008311   \n",
       "Slope                   0.159405  0.033345  0.121172 -0.009215  0.047819   \n",
       "Ca                      0.362210  0.091925  0.097954  0.115945  0.152086   \n",
       "HD                      0.227075  0.278467  0.153490  0.080285  0.003167   \n",
       "ChestPain_asymptomatic  0.137297  0.085014  0.029082  0.064831 -0.087329   \n",
       "ChestPain_nonanginal   -0.043181 -0.115054 -0.054825 -0.023570  0.106259   \n",
       "ChestPain_nontypical   -0.163227 -0.041925 -0.080820 -0.017678 -0.053990   \n",
       "ChestPain_typical       0.042571  0.092497  0.149921 -0.057040  0.059785   \n",
       "Thal_fixed              0.059732  0.145368  0.075211 -0.099575  0.096002   \n",
       "Thal_normal            -0.130333 -0.390730 -0.143474  0.001379 -0.072045   \n",
       "Thal_reversable         0.103792  0.327671  0.109624  0.047368  0.026522   \n",
       "\n",
       "                         RestECG     MaxHR     ExAng   Oldpeak     Slope  \\\n",
       "Age                     0.149917 -0.394563  0.096489  0.197123  0.159405   \n",
       "Sex                     0.033897 -0.060496  0.143581  0.106567  0.033345   \n",
       "RestBP                  0.149242 -0.049108  0.066691  0.191243  0.121172   \n",
       "Chol                    0.165046 -0.000075  0.059339  0.038596 -0.009215   \n",
       "Fbs                     0.068831 -0.007842 -0.000893  0.008311  0.047819   \n",
       "RestECG                 1.000000 -0.072290  0.081874  0.113726  0.135141   \n",
       "MaxHR                  -0.072290  1.000000 -0.384368 -0.347640 -0.389307   \n",
       "ExAng                   0.081874 -0.384368  1.000000  0.289310  0.250572   \n",
       "Oldpeak                 0.113726 -0.347640  0.289310  1.000000  0.579037   \n",
       "Slope                   0.135141 -0.389307  0.250572  0.579037  1.000000   \n",
       "Ca                      0.129021 -0.268727  0.148232  0.294452  0.109761   \n",
       "HD                      0.166343 -0.423817  0.421355  0.424052  0.333049   \n",
       "ChestPain_asymptomatic  0.118613 -0.377920  0.454514  0.271036  0.201156   \n",
       "ChestPain_nonanginal   -0.088542  0.160943 -0.257718 -0.117376 -0.085393   \n",
       "ChestPain_nontypical   -0.098958  0.256120 -0.232185 -0.283033 -0.213606   \n",
       "ChestPain_typical       0.064395  0.080420 -0.094329  0.083559  0.064052   \n",
       "Thal_fixed              0.043483 -0.160679  0.063827  0.101819  0.186386   \n",
       "Thal_normal            -0.023504  0.286684 -0.325755 -0.347874 -0.294494   \n",
       "Thal_reversable         0.002695 -0.213956  0.301283  0.305253  0.209335   \n",
       "\n",
       "                              Ca        HD  ChestPain_asymptomatic  \\\n",
       "Age                     0.362210  0.227075                0.137297   \n",
       "Sex                     0.091925  0.278467                0.085014   \n",
       "RestBP                  0.097954  0.153490                0.029082   \n",
       "Chol                    0.115945  0.080285                0.064831   \n",
       "Fbs                     0.152086  0.003167               -0.087329   \n",
       "RestECG                 0.129021  0.166343                0.118613   \n",
       "MaxHR                  -0.268727 -0.423817               -0.377920   \n",
       "ExAng                   0.148232  0.421355                0.454514   \n",
       "Oldpeak                 0.294452  0.424052                0.271036   \n",
       "Slope                   0.109761  0.333049                0.201156   \n",
       "Ca                      1.000000  0.463189                0.272522   \n",
       "HD                      0.463189  1.000000                0.507035   \n",
       "ChestPain_asymptomatic  0.272522  0.507035                1.000000   \n",
       "ChestPain_nonanginal   -0.137452 -0.305345               -0.596088   \n",
       "ChestPain_nontypical   -0.156403 -0.247535               -0.425452   \n",
       "ChestPain_typical      -0.061355 -0.091208               -0.277311   \n",
       "Thal_fixed              0.087585  0.104651                0.095876   \n",
       "Thal_normal            -0.259966 -0.524972               -0.344442   \n",
       "Thal_reversable         0.222484  0.484657                0.304661   \n",
       "\n",
       "                        ChestPain_nonanginal  ChestPain_nontypical  \\\n",
       "Age                                -0.043181             -0.163227   \n",
       "Sex                                -0.115054             -0.041925   \n",
       "RestBP                             -0.054825             -0.080820   \n",
       "Chol                               -0.023570             -0.017678   \n",
       "Fbs                                 0.106259             -0.053990   \n",
       "RestECG                            -0.088542             -0.098958   \n",
       "MaxHR                               0.160943              0.256120   \n",
       "ExAng                              -0.257718             -0.232185   \n",
       "Oldpeak                            -0.117376             -0.283033   \n",
       "Slope                              -0.085393             -0.213606   \n",
       "Ca                                 -0.137452             -0.156403   \n",
       "HD                                 -0.305345             -0.247535   \n",
       "ChestPain_asymptomatic             -0.596088             -0.425452   \n",
       "ChestPain_nonanginal                1.000000             -0.276824   \n",
       "ChestPain_nontypical               -0.276824              1.000000   \n",
       "ChestPain_typical                  -0.180435             -0.128784   \n",
       "Thal_fixed                         -0.095292             -0.036866   \n",
       "Thal_normal                         0.198698              0.217866   \n",
       "Thal_reversable                    -0.156164             -0.204351   \n",
       "\n",
       "                        ChestPain_typical  Thal_fixed  Thal_normal  \\\n",
       "Age                              0.042571    0.059732    -0.130333   \n",
       "Sex                              0.092497    0.145368    -0.390730   \n",
       "RestBP                           0.149921    0.075211    -0.143474   \n",
       "Chol                            -0.057040   -0.099575     0.001379   \n",
       "Fbs                              0.059785    0.096002    -0.072045   \n",
       "RestECG                          0.064395    0.043483    -0.023504   \n",
       "MaxHR                            0.080420   -0.160679     0.286684   \n",
       "ExAng                           -0.094329    0.063827    -0.325755   \n",
       "Oldpeak                          0.083559    0.101819    -0.347874   \n",
       "Slope                            0.064052    0.186386    -0.294494   \n",
       "Ca                              -0.061355    0.087585    -0.259966   \n",
       "HD                              -0.091208    0.104651    -0.524972   \n",
       "ChestPain_asymptomatic          -0.277311    0.095876    -0.344442   \n",
       "ChestPain_nonanginal            -0.180435   -0.095292     0.198698   \n",
       "ChestPain_nontypical            -0.128784   -0.036866     0.217866   \n",
       "ChestPain_typical                1.000000    0.031996     0.007591   \n",
       "Thal_fixed                       0.031996    1.000000    -0.282053   \n",
       "Thal_normal                      0.007591   -0.282053     1.000000   \n",
       "Thal_reversable                 -0.023422   -0.201905    -0.882692   \n",
       "\n",
       "                        Thal_reversable  \n",
       "Age                            0.103792  \n",
       "Sex                            0.327671  \n",
       "RestBP                         0.109624  \n",
       "Chol                           0.047368  \n",
       "Fbs                            0.026522  \n",
       "RestECG                        0.002695  \n",
       "MaxHR                         -0.213956  \n",
       "ExAng                          0.301283  \n",
       "Oldpeak                        0.305253  \n",
       "Slope                          0.209335  \n",
       "Ca                             0.222484  \n",
       "HD                             0.484657  \n",
       "ChestPain_asymptomatic         0.304661  \n",
       "ChestPain_nonanginal          -0.156164  \n",
       "ChestPain_nontypical          -0.204351  \n",
       "ChestPain_typical             -0.023422  \n",
       "Thal_fixed                    -0.201905  \n",
       "Thal_normal                   -0.882692  \n",
       "Thal_reversable                1.000000  "
      ]
     },
     "execution_count": 11,
     "metadata": {},
     "output_type": "execute_result"
    }
   ],
   "source": [
    "cm = heart.corr()\n",
    "cm"
   ]
  },
  {
   "cell_type": "code",
   "execution_count": 12,
   "metadata": {},
   "outputs": [],
   "source": [
    "highest_corr = \"ChestPain_asymptomatic\"\n",
    "# Enter your code here\n"
   ]
  },
  {
   "cell_type": "code",
   "execution_count": 13,
   "metadata": {},
   "outputs": [
    {
     "name": "stdout",
     "output_type": "stream",
     "text": [
      "Correct! You earned 1/1 points. You are a star!\n",
      "\n",
      "Your submission has been successfully recorded in the gradebook.\n"
     ]
    }
   ],
   "source": [
    "grader.grade(test_case_id = 'test_corr', answer = highest_corr)"
   ]
  },
  {
   "cell_type": "markdown",
   "metadata": {},
   "source": [
    "6. Since we are interested in building a predictive model, it is good practice to split the data into training and testing sets. Using `sklearn.model_selection.train_test_split`, divide the data into these sets using a 80/20 split with a `random_state=42`. These training and testing sets will be used for all the following parts."
   ]
  },
  {
   "cell_type": "code",
   "execution_count": 14,
   "metadata": {},
   "outputs": [],
   "source": [
    "y = heart['HD']\n",
    "X = heart.drop(columns = ['HD'])\n",
    "X_train, X_test, y_train, y_test = train_test_split(X, y, test_size = 0.2, random_state = 42)\n",
    "\n"
   ]
  },
  {
   "cell_type": "code",
   "execution_count": 15,
   "metadata": {},
   "outputs": [
    {
     "name": "stdout",
     "output_type": "stream",
     "text": [
      "Correct! You earned 2/2 points. You are a star!\n",
      "\n",
      "Your submission has been successfully recorded in the gradebook.\n"
     ]
    }
   ],
   "source": [
    "grader.grade(test_case_id = 'test_split', answer = (X_train, y_train))"
   ]
  },
  {
   "cell_type": "markdown",
   "metadata": {},
   "source": [
    "## 7. Part A: Decision Tree"
   ]
  },
  {
   "cell_type": "markdown",
   "metadata": {},
   "source": [
    "1. Using all predictor variables, train a <u>base</u> classification tree to predict the response variable. Use `sklearn.tree.DecisionTreeClassifier` and set `random_state=42`. \n",
    "\n",
    "*Hint*: here is the link for the documentation of [sklearn.tree.DecisionTreeClassifier](https://scikit-learn.org/stable/modules/generated/sklearn.tree.DecisionTreeClassifier.html)."
   ]
  },
  {
   "cell_type": "code",
   "execution_count": 45,
   "metadata": {},
   "outputs": [],
   "source": [
    "clf = tree.DecisionTreeClassifier(random_state = 42)\n",
    "clf = clf.fit(X_train, y_train)"
   ]
  },
  {
   "cell_type": "code",
   "execution_count": 46,
   "metadata": {},
   "outputs": [
    {
     "name": "stdout",
     "output_type": "stream",
     "text": [
      "Correct! You earned 1.0/1 points. You are a star!\n",
      "\n",
      "Your submission has been successfully recorded in the gradebook.\n"
     ]
    }
   ],
   "source": [
    "grader.grade(test_case_id = 'test_dt', answer = (clf.n_classes_, clf.n_features_))"
   ]
  },
  {
   "cell_type": "markdown",
   "metadata": {},
   "source": [
    "2. Plot the decision tree using the `Graphviz` package. Do you notice anything interesting?\n",
    "\n",
    "*Hint*: To do this, click on the little computer button on the Codio sidebar that says \"Open Terminal.\" Once you are in the terminal, copy and paste the following and hit enter:\n",
    "\n",
    "```\n",
    "pip install --upgrade pip --user\n",
    "pip install pydotplus --user\n",
    "pip install graphviz --user\n",
    "pip install ipython --user\n",
    "sudo apt-get install graphviz\n",
    "```\n",
    "\n",
    "After, save your work and then click kernel -> 'restart and run all'. You should be able to use `Graphviz` package now!\n",
    "\n",
    "If any of the above commands fails, please replace 'pip install' with 'sudo apt-get install `<package-name>`'. If you are having trouble with the installation, please post on Piazza or visit office hours.\n",
    "    \n",
    "To pass the test, your img should be of type `<class 'IPython.core.display.Image'>`."
   ]
  },
  {
   "cell_type": "code",
   "execution_count": 47,
   "metadata": {},
   "outputs": [],
   "source": [
    "# You need to download this notebook to your local PC to complete this question\n",
    "dot_data = tree.export_graphviz(clf, out_file = None)\n",
    "\n",
    "\n",
    "graph = pydotplus.graph_from_dot_data(dot_data)\n",
    "img = Image(graph.create_png())\n",
    "\n"
   ]
  },
  {
   "cell_type": "code",
   "execution_count": 48,
   "metadata": {},
   "outputs": [
    {
     "name": "stdout",
     "output_type": "stream",
     "text": [
      "Correct! You earned 1/1 points. You are a star!\n",
      "\n",
      "Your submission has been successfully recorded in the gradebook.\n"
     ]
    }
   ],
   "source": [
    "grader.grade(test_case_id = 'test_image', answer = (str(type(img))))"
   ]
  },
  {
   "cell_type": "markdown",
   "metadata": {},
   "source": [
    "3. Evaluate your base model on the test set by calculating the precision, recall and accuracy. Assign these values to `dt_precision`, `dt_recall` and `dt_accuracy` respectively. Name your model `dt`.\n",
    "\n",
    "*Hint*: A useful resource if you need a refresher of these terms is [here](https://en.wikipedia.org/wiki/Precision_and_recall)."
   ]
  },
  {
   "cell_type": "code",
   "execution_count": 49,
   "metadata": {},
   "outputs": [
    {
     "name": "stdout",
     "output_type": "stream",
     "text": [
      "0.7241379310344828 0.875 0.8166666666666667\n"
     ]
    }
   ],
   "source": [
    "y_pred = clf.predict(X_test)\n",
    "\n",
    "dt_precision = precision_score(y_test, y_pred)\n",
    "dt_recall = recall_score(y_test, y_pred)\n",
    "dt_accuracy = accuracy_score(y_test, y_pred)\n",
    "\n",
    "print(dt_precision, dt_recall, dt_accuracy)"
   ]
  },
  {
   "cell_type": "code",
   "execution_count": 50,
   "metadata": {},
   "outputs": [
    {
     "name": "stdout",
     "output_type": "stream",
     "text": [
      "Correct! You earned 1.5/1.5 points. You are a star!\n",
      "\n",
      "Your submission has been successfully recorded in the gradebook.\n"
     ]
    }
   ],
   "source": [
    "grader.grade(test_case_id = 'test_dt_score', answer = (dt_precision, dt_recall, dt_accuracy))"
   ]
  },
  {
   "cell_type": "markdown",
   "metadata": {},
   "source": [
    "4a. Which hyperparameter should we tune when building a decision tree? Select all that applies:\n",
    "\n",
    "A. Tree depth\n",
    "\n",
    "B. Number of estimators\n",
    "\n",
    "C. Number of output classes\n",
    "\n",
    "D. Percent of samples trained"
   ]
  },
  {
   "cell_type": "code",
   "execution_count": 63,
   "metadata": {},
   "outputs": [],
   "source": [
    "answers = ['A']"
   ]
  },
  {
   "cell_type": "code",
   "execution_count": 64,
   "metadata": {},
   "outputs": [
    {
     "name": "stdout",
     "output_type": "stream",
     "text": [
      "Correct! You earned 0.5/0.5 points. You are a star!\n",
      "\n",
      "Your submission has been successfully recorded in the gradebook.\n"
     ]
    }
   ],
   "source": [
    "grader.grade(test_case_id = 'test_dt_tune', answer = answers)"
   ]
  },
  {
   "cell_type": "markdown",
   "metadata": {},
   "source": [
    "4b. Tune the hyperparameter you selected in the above question and evaluate this tuned model by calculating the precision, recall and accuracy on the test set. Assign these calculated values to `dt_tuned_precision`, `dt_tuned_recall` and `dt_tuned_accuracy` respectively. \n",
    "\n",
    "*Hint*: \n",
    "1. Refer to the documentation to determine what can be tuned. \n",
    "2. For each tuned parameter, search through range between 3 and 20 to find the best performing parameters. \n",
    "3. To tune hyperparameters, use GridSearchCV with `cv=10`. This will apply KFold on your training set so you split your training set into a smaller training set and a \"validation\" set, which GridSearchCV will use to pick the best parameters. If you do not specify `cv=10`, GridSearchCV will by default use 5-fold cross validation. Read more about train/validation/test sets [here](https://blog.roboflow.com/train-test-split/). "
   ]
  },
  {
   "cell_type": "code",
   "execution_count": 72,
   "metadata": {},
   "outputs": [
    {
     "name": "stdout",
     "output_type": "stream",
     "text": [
      "{'max_depth': 4}\n"
     ]
    }
   ],
   "source": [
    "# Enter your code here\n",
    "params = {'max_depth' : np.arange(3, 20, 1)}\n",
    "\n",
    "grid_search_cv_dt = GridSearchCV(tree.DecisionTreeClassifier(random_state = 42), params, cv = 10)\n",
    "\n",
    "grid_search_cv_dt.fit(X_train, y_train)\n",
    "print(grid_search_cv_dt.best_params_)\n",
    "\n",
    "best_model = grid_search_cv_dt.best_estimator_\n",
    "y_pred = best_model.predict(X_test)\n",
    "\n",
    "dt_tuned_precision = precision_score(y_test, y_pred)\n",
    "dt_tuned_recall = recall_score(y_test, y_pred)\n",
    "dt_tuned_accuracy = accuracy_score(y_test, y_pred)\n",
    "\n"
   ]
  },
  {
   "cell_type": "code",
   "execution_count": 73,
   "metadata": {},
   "outputs": [
    {
     "name": "stdout",
     "output_type": "stream",
     "text": [
      "Correct! You earned 1.5/1.5 points. You are a star!\n",
      "\n",
      "Your submission has been successfully recorded in the gradebook.\n"
     ]
    }
   ],
   "source": [
    "grader.grade(test_case_id = 'test_dt_tuned', answer = (dt_tuned_precision, dt_tuned_recall, dt_tuned_accuracy))"
   ]
  },
  {
   "cell_type": "markdown",
   "metadata": {},
   "source": [
    "## 8. Part B: Bagging"
   ]
  },
  {
   "cell_type": "markdown",
   "metadata": {},
   "source": [
    "1. Using all predictor variables, train a base model to predict the response variable. Use `sklearn.ensemble.BaggingClassifier` and set `random_state=42`. Name your model as `bag`."
   ]
  },
  {
   "cell_type": "code",
   "execution_count": 86,
   "metadata": {},
   "outputs": [],
   "source": [
    "# Enter your code here\n",
    "bag = BaggingClassifier(random_state = 42)\n",
    "bag = bag.fit(X_train, y_train)"
   ]
  },
  {
   "cell_type": "code",
   "execution_count": 87,
   "metadata": {},
   "outputs": [
    {
     "name": "stdout",
     "output_type": "stream",
     "text": [
      "Correct! You earned 0.5/0.5 points. You are a star!\n",
      "\n",
      "Your submission has been successfully recorded in the gradebook.\n"
     ]
    }
   ],
   "source": [
    "grader.grade(test_case_id = 'test_bag', answer = bag.estimators_samples_)"
   ]
  },
  {
   "cell_type": "markdown",
   "metadata": {},
   "source": [
    "2. Evaluate your base model on the test set by calculating the precision, recall and accuracy. Assign these values to `bag_precision`, `bag_recall`  and `bag_accuracy` respectively. "
   ]
  },
  {
   "cell_type": "code",
   "execution_count": 88,
   "metadata": {},
   "outputs": [
    {
     "name": "stdout",
     "output_type": "stream",
     "text": [
      "0.8636363636363636 0.7916666666666666 0.8666666666666667\n"
     ]
    }
   ],
   "source": [
    "# Enter your code here\n",
    "y_pred = bag.predict(X_test)\n",
    "\n",
    "bag_precision = precision_score(y_test, y_pred)\n",
    "bag_recall = recall_score(y_test, y_pred)\n",
    "bag_accuracy = accuracy_score(y_test, y_pred)\n",
    "\n",
    "print(bag_precision, bag_recall, bag_accuracy)"
   ]
  },
  {
   "cell_type": "code",
   "execution_count": 89,
   "metadata": {},
   "outputs": [
    {
     "name": "stdout",
     "output_type": "stream",
     "text": [
      "Correct! You earned 1.0/1 points. You are a star!\n",
      "\n",
      "Your submission has been successfully recorded in the gradebook.\n"
     ]
    }
   ],
   "source": [
    "grader.grade(test_case_id = 'test_bag_score', answer = (bag_precision, bag_recall, bag_accuracy))"
   ]
  },
  {
   "cell_type": "markdown",
   "metadata": {},
   "source": [
    "3. Do <b>not</b> modify `base_classifier`. Tune the `n_estimators` hyperparameter of your model and evaluate this tuned model by calculating the precision, recall, and accuracy on the test set. Assign these calculated values to `bag_tuned_precision`, `bag_tuned_recall` and `bag_tuned_accuracy`  respectively. Store your best performing estimators to `bag_best_param` as a dictionary ('tuned estimator' : number). *Hint*: Set the searching space to all integers between range 5 and 29. To tune hyperparameters, use GridSearchCV with `cv=10`. This will apply KFold on your training set so you split your training set into a smaller training set and a \"validation\" set, which GridSearchCV will use to pick the best parameters. If you do not specify `cv=10`, GridSearchCV will by default use 5-fold cross validation. Read more about train/validation/test sets [here](https://blog.roboflow.com/train-test-split/). "
   ]
  },
  {
   "cell_type": "code",
   "execution_count": 94,
   "metadata": {},
   "outputs": [
    {
     "name": "stdout",
     "output_type": "stream",
     "text": [
      "{'n_estimators': 19}\n"
     ]
    }
   ],
   "source": [
    "# Enter your code here\n",
    "params = {'n_estimators' : np.arange(3, 20, 1)}\n",
    "\n",
    "grid_search_cv_bag = GridSearchCV(BaggingClassifier(random_state = 42), params, cv = 10)\n",
    "\n",
    "grid_search_cv_bag.fit(X_train, y_train)\n",
    "print(grid_search_cv_bag.best_params_)\n",
    "\n",
    "best_model = grid_search_cv_bag.best_estimator_\n",
    "y_pred = best_model.predict(X_test)\n",
    "\n",
    "bag_tuned_precision = precision_score(y_test, y_pred)\n",
    "bag_tuned_recall = recall_score(y_test, y_pred)\n",
    "bag_tuned_accuracy = accuracy_score(y_test, y_pred)\n",
    "\n",
    "bag_best_param = grid_search_cv_bag.best_params_"
   ]
  },
  {
   "cell_type": "code",
   "execution_count": 95,
   "metadata": {},
   "outputs": [
    {
     "name": "stdout",
     "output_type": "stream",
     "text": [
      "Correct! You earned 1/1 points. You are a star!\n",
      "\n",
      "Your submission has been successfully recorded in the gradebook.\n"
     ]
    }
   ],
   "source": [
    "grader.grade(test_case_id = 'test_bag_tuned', answer = (bag_tuned_precision, bag_tuned_recall, bag_tuned_accuracy))"
   ]
  },
  {
   "cell_type": "code",
   "execution_count": 96,
   "metadata": {},
   "outputs": [
    {
     "name": "stdout",
     "output_type": "stream",
     "text": [
      "Correct! You earned 1.0/1 points. You are a star!\n",
      "\n",
      "Your submission has been successfully recorded in the gradebook.\n"
     ]
    }
   ],
   "source": [
    "grader.grade(test_case_id = 'test_bag_best', answer = bag_best_param)"
   ]
  },
  {
   "cell_type": "markdown",
   "metadata": {},
   "source": [
    "## 9. Part C: Random Forest"
   ]
  },
  {
   "cell_type": "markdown",
   "metadata": {},
   "source": [
    "1. Using all predictor variables, train a base random forest to predict the response variable. Use `sklearn.ensemble.RandomForestClassifier` and set `random_state=42`. Name your model `rf`."
   ]
  },
  {
   "cell_type": "code",
   "execution_count": 97,
   "metadata": {},
   "outputs": [],
   "source": [
    "rf = RandomForestClassifier(random_state = 42)\n",
    "rf = rf.fit(X_train, y_train)"
   ]
  },
  {
   "cell_type": "code",
   "execution_count": 98,
   "metadata": {},
   "outputs": [
    {
     "name": "stdout",
     "output_type": "stream",
     "text": [
      "Correct! You earned 0.5/0.5 points. You are a star!\n",
      "\n",
      "Your submission has been successfully recorded in the gradebook.\n"
     ]
    }
   ],
   "source": [
    "grader.grade(test_case_id = 'test_rf', answer = rf.n_estimators)"
   ]
  },
  {
   "cell_type": "markdown",
   "metadata": {},
   "source": [
    "2. Evaluate your base model on the test set by calculating the precision, recall and accuracy. Assign these values to `rf_precision`, `rf_recall` and `rf_accuracy` respectively."
   ]
  },
  {
   "cell_type": "code",
   "execution_count": 99,
   "metadata": {},
   "outputs": [
    {
     "name": "stdout",
     "output_type": "stream",
     "text": [
      "0.84 0.875 0.8833333333333333\n"
     ]
    }
   ],
   "source": [
    "# Enter your code here\n",
    "\n",
    "y_pred = rf.predict(X_test)\n",
    "\n",
    "rf_precision = precision_score(y_test, y_pred)\n",
    "rf_recall = recall_score(y_test, y_pred)\n",
    "rf_accuracy = accuracy_score(y_test, y_pred)\n",
    "\n",
    "print(rf_precision, rf_recall, rf_accuracy)"
   ]
  },
  {
   "cell_type": "code",
   "execution_count": 100,
   "metadata": {},
   "outputs": [
    {
     "name": "stdout",
     "output_type": "stream",
     "text": [
      "Correct! You earned 0.5/0.5 points. You are a star!\n",
      "\n",
      "Your submission has been successfully recorded in the gradebook.\n"
     ]
    }
   ],
   "source": [
    "grader.grade(test_case_id = 'test_rf_score', answer = (rf_precision, rf_recall, rf_accuracy))"
   ]
  },
  {
   "cell_type": "markdown",
   "metadata": {},
   "source": [
    "3. Tune the hyperparameters of your model and evaluate this tuned model by calculating the precision, recall and accuracy on the test set. Assign these calculated values to `rf_tuned_precision`, `rf_tuned_recall` and `rf_tuned_accuracy` respectively. Store your best-performing parameters to `rf_tuned`. Also don't forget to set `random_state=42`. \n",
    "\n",
    "*Hint*: \n",
    "1. In this question, we would like to tune only the parameters determining the depth of a tree and the number of trees. But beware that you can also adjust the maximum number of features considered for each tree(max_features), the minimum number of data points placed in a node before the node is split(min_samples_split), the minimum number of data points allowed in a leaf node(min_samples_leaf), and bootstrap option. Refer to [sklearn.RandomForestClassifier](https://scikit-learn.org/stable/modules/generated/sklearn.ensemble.RandomForestClassifier.html) for a complete list.\n",
    "2. In this question, your parameter search space is (3,20) for tree depth, (10,29) for number of trees.\n",
    "3. To tune hyperparameters, use GridSearchCV with `cv=10`. This will apply KFold on your training set so you split your training set into a smaller training set and a \"validation\" set, which GridSearchCV will use to pick the best parameters. If you do not specify `cv=10`, GridSearchCV will by default use 5-fold cross validation. Read more about train/validation/test sets [here](https://blog.roboflow.com/train-test-split/). "
   ]
  },
  {
   "cell_type": "code",
   "execution_count": 102,
   "metadata": {},
   "outputs": [
    {
     "name": "stdout",
     "output_type": "stream",
     "text": [
      "{'max_depth': 4, 'n_estimators': 20}\n"
     ]
    }
   ],
   "source": [
    "# Enter your code here\n",
    "params = {'max_depth' : np.arange(3, 20, 1), 'n_estimators' : np.arange(10, 29, 1)}\n",
    "\n",
    "grid_search_cv_rf = GridSearchCV(RandomForestClassifier(random_state = 42), params, cv = 10)\n",
    "\n",
    "grid_search_cv_rf.fit(X_train, y_train)\n",
    "print(grid_search_cv_rf.best_params_)\n",
    "\n",
    "best_model = grid_search_cv_rf.best_estimator_\n",
    "y_pred = best_model.predict(X_test)\n",
    "\n",
    "rf_tuned_precision = precision_score(y_test, y_pred)\n",
    "rf_tuned_recall = recall_score(y_test, y_pred)\n",
    "rf_tuned_accuracy = accuracy_score(y_test, y_pred)\n",
    "\n",
    "rf_tuned = grid_search_cv_rf.best_params_"
   ]
  },
  {
   "cell_type": "code",
   "execution_count": 103,
   "metadata": {},
   "outputs": [
    {
     "name": "stdout",
     "output_type": "stream",
     "text": [
      "Correct! You earned 1/1 points. You are a star!\n",
      "\n",
      "Your submission has been successfully recorded in the gradebook.\n"
     ]
    }
   ],
   "source": [
    "grader.grade(test_case_id = 'test_rf_tuned', answer = (rf_tuned_precision, rf_tuned_recall, rf_tuned_accuracy))"
   ]
  },
  {
   "cell_type": "code",
   "execution_count": 108,
   "metadata": {},
   "outputs": [
    {
     "name": "stdout",
     "output_type": "stream",
     "text": [
      "Correct! You earned 1.0/1 points. You are a star!\n",
      "\n",
      "Your submission has been successfully recorded in the gradebook.\n"
     ]
    }
   ],
   "source": [
    "grader.grade(test_case_id = 'test_rf_tuned_params', answer = rf_tuned)"
   ]
  },
  {
   "cell_type": "markdown",
   "metadata": {},
   "source": [
    "10. Of the 3 base models that you trained, which model achieved the highest test accuracy? \n",
    "\n",
    "A. Decision Tree\n",
    "\n",
    "B. Bagging\n",
    "\n",
    "C. Random Forest"
   ]
  },
  {
   "cell_type": "code",
   "execution_count": 113,
   "metadata": {},
   "outputs": [],
   "source": [
    "choice = ['C']"
   ]
  },
  {
   "cell_type": "code",
   "execution_count": 114,
   "metadata": {},
   "outputs": [
    {
     "name": "stdout",
     "output_type": "stream",
     "text": [
      "Correct! You earned 0.5/0.5 points. You are a star!\n",
      "\n",
      "Your submission has been successfully recorded in the gradebook.\n"
     ]
    }
   ],
   "source": [
    "grader.grade(test_case_id = 'test_base', answer = choice)"
   ]
  },
  {
   "cell_type": "markdown",
   "metadata": {},
   "source": [
    "11. Of the 3 models in which you tuned the parameters, which model achieved the highest test accuracy? \n",
    "\n",
    "A. Decision Tree\n",
    "\n",
    "B. Bagging\n",
    "\n",
    "C. Random Forest"
   ]
  },
  {
   "cell_type": "code",
   "execution_count": 115,
   "metadata": {},
   "outputs": [],
   "source": [
    "choice = ['C']"
   ]
  },
  {
   "cell_type": "code",
   "execution_count": 116,
   "metadata": {},
   "outputs": [
    {
     "name": "stdout",
     "output_type": "stream",
     "text": [
      "Correct! You earned 0.5/0.5 points. You are a star!\n",
      "\n",
      "Your submission has been successfully recorded in the gradebook.\n"
     ]
    }
   ],
   "source": [
    "grader.grade(test_case_id = 'test_tuned', answer = choice)"
   ]
  },
  {
   "cell_type": "markdown",
   "metadata": {},
   "source": [
    "12. *Food for thought (ungraded but interesting to think about)*: In this project, we asked you to pick the model with the highest test accuracy. For this task, do you think that accuracy is the best metric to use, or would precision, recall or even the F1-score be better?"
   ]
  },
  {
   "cell_type": "code",
   "execution_count": 117,
   "metadata": {},
   "outputs": [
    {
     "name": "stdout",
     "output_type": "stream",
     "text": [
      "I think F1 would be best\n"
     ]
    }
   ],
   "source": [
    "print(\"I think F1 would be best\")"
   ]
  },
  {
   "cell_type": "code",
   "execution_count": null,
   "metadata": {},
   "outputs": [],
   "source": []
  }
 ],
 "metadata": {
  "kernelspec": {
   "display_name": "Python 3",
   "language": "python",
   "name": "python3"
  },
  "language_info": {
   "codemirror_mode": {
    "name": "ipython",
    "version": 3
   },
   "file_extension": ".py",
   "mimetype": "text/x-python",
   "name": "python",
   "nbconvert_exporter": "python",
   "pygments_lexer": "ipython3",
   "version": "3.6.8"
  }
 },
 "nbformat": 4,
 "nbformat_minor": 4
}
